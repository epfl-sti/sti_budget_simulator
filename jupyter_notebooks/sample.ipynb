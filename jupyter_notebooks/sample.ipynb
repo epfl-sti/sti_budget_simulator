{
 "cells": [
  {
   "cell_type": "markdown",
   "metadata": {},
   "source": [
    "# Sample Jupyter notebook for the STI budgets simulator"
   ]
  },
  {
   "cell_type": "code",
   "execution_count": 10,
   "metadata": {},
   "outputs": [],
   "source": [
    "# simple trick to make sure that we work in the same directory when we are inside a jupyter notebook and when we are running the simulation from the main directory\n",
    "import os\n",
    "cwd = os.getcwd()\n",
    "if cwd.endswith('jupyter_notebooks'):\n",
    "    os.chdir('..')\n",
    "from rules import *"
   ]
  },
  {
   "cell_type": "markdown",
   "metadata": {},
   "source": [
    "## Parameters\n",
    "\n",
    "in order to run the simulations, we need to provide a number of parameters. For the first release, we do not know the parameters in advance. Therefore, the easiest way is to use a dictionary of values.\n"
   ]
  },
  {
   "cell_type": "code",
   "execution_count": 3,
   "metadata": {},
   "outputs": [],
   "source": [
    "import datetime\n",
    "parameters = {}\n",
    "parameters['initial_budget'] = 0\n",
    "parameters['start_date'] = datetime.datetime(2019, 1, 1)\n",
    "parameters['end_date'] = datetime.datetime(2029, 1, 1)\n",
    "parameters['academic_rank'] = 'PATT'\n",
    "parameters['in_rank_since'] = datetime.datetime(2018, 1, 1)\n",
    "parameters['CF'] = '1234'"
   ]
  },
  {
   "cell_type": "markdown",
   "metadata": {},
   "source": [
    "## boilerplates"
   ]
  },
  {
   "cell_type": "code",
   "execution_count": 4,
   "metadata": {},
   "outputs": [],
   "source": [
    "import pandas as pd\n",
    "df = pd.DataFrame()"
   ]
  },
  {
   "cell_type": "markdown",
   "metadata": {},
   "source": [
    "## Running the rules"
   ]
  },
  {
   "cell_type": "markdown",
   "metadata": {},
   "source": [
    "This is were the actual code will calculate the entries of the ledger"
   ]
  },
  {
   "cell_type": "code",
   "execution_count": null,
   "metadata": {},
   "outputs": [],
   "source": []
  }
 ],
 "metadata": {
  "kernelspec": {
   "display_name": "Python 3",
   "language": "python",
   "name": "python3"
  },
  "language_info": {
   "codemirror_mode": {
    "name": "ipython",
    "version": 3
   },
   "file_extension": ".py",
   "mimetype": "text/x-python",
   "name": "python",
   "nbconvert_exporter": "python",
   "pygments_lexer": "ipython3",
   "version": "3.7.4"
  }
 },
 "nbformat": 4,
 "nbformat_minor": 4
}
