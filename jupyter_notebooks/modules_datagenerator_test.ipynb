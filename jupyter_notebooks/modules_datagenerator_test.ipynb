{
 "cells": [
  {
   "cell_type": "markdown",
   "metadata": {},
   "source": [
    "# datagenerator test\n",
    "Simple test running the `modules/datagenerator.py` and reading back the result\n",
    "\n",
    "## Boilerplate"
   ]
  },
  {
   "cell_type": "code",
   "execution_count": 15,
   "metadata": {},
   "outputs": [],
   "source": [
    "import os\n",
    "import pandas as pd\n",
    "import datetime\n",
    "cwd = os.getcwd()\n",
    "if cwd.endswith('jupyter_notebooks'):\n",
    "    os.chdir('..')\n",
    "from modules import datagenerator"
   ]
  },
  {
   "cell_type": "markdown",
   "metadata": {},
   "source": [
    "## Running the `modules/datagenerator.py` file"
   ]
  },
  {
   "cell_type": "code",
   "execution_count": 16,
   "metadata": {},
   "outputs": [],
   "source": [
    "datagenerator.main()"
   ]
  },
  {
   "cell_type": "markdown",
   "metadata": {},
   "source": [
    "## Reading back the result"
   ]
  },
  {
   "cell_type": "code",
   "execution_count": 17,
   "metadata": {},
   "outputs": [],
   "source": [
    "df = pd.read_pickle('./cache/faculty_members.pkl')"
   ]
  },
  {
   "cell_type": "markdown",
   "metadata": {},
   "source": [
    "## Display info on the read data"
   ]
  },
  {
   "cell_type": "code",
   "execution_count": 18,
   "metadata": {},
   "outputs": [
    {
     "data": {
      "text/html": [
       "<div>\n",
       "<style scoped>\n",
       "    .dataframe tbody tr th:only-of-type {\n",
       "        vertical-align: middle;\n",
       "    }\n",
       "\n",
       "    .dataframe tbody tr th {\n",
       "        vertical-align: top;\n",
       "    }\n",
       "\n",
       "    .dataframe thead th {\n",
       "        text-align: right;\n",
       "    }\n",
       "</style>\n",
       "<table border=\"1\" class=\"dataframe\">\n",
       "  <thead>\n",
       "    <tr style=\"text-align: right;\">\n",
       "      <th></th>\n",
       "      <th>CF</th>\n",
       "      <th>sciper</th>\n",
       "      <th>DoB</th>\n",
       "      <th>academic rank</th>\n",
       "      <th>appointment</th>\n",
       "    </tr>\n",
       "  </thead>\n",
       "  <tbody>\n",
       "    <tr>\n",
       "      <th>0</th>\n",
       "      <td>301</td>\n",
       "      <td>190188</td>\n",
       "      <td>1985-06-21</td>\n",
       "      <td>PATT</td>\n",
       "      <td>2019-01-01</td>\n",
       "    </tr>\n",
       "    <tr>\n",
       "      <th>1</th>\n",
       "      <td>304</td>\n",
       "      <td>283344</td>\n",
       "      <td>1963-06-29</td>\n",
       "      <td>PO</td>\n",
       "      <td>2017-07-01</td>\n",
       "    </tr>\n",
       "    <tr>\n",
       "      <th>2</th>\n",
       "      <td>305</td>\n",
       "      <td>283343</td>\n",
       "      <td>1978-04-30</td>\n",
       "      <td>PO</td>\n",
       "      <td>2017-11-01</td>\n",
       "    </tr>\n",
       "    <tr>\n",
       "      <th>3</th>\n",
       "      <td>307</td>\n",
       "      <td>292067</td>\n",
       "      <td>1984-08-28</td>\n",
       "      <td>PATT</td>\n",
       "      <td>2018-06-01</td>\n",
       "    </tr>\n",
       "    <tr>\n",
       "      <th>4</th>\n",
       "      <td>315</td>\n",
       "      <td>189938</td>\n",
       "      <td>1975-02-26</td>\n",
       "      <td>PA</td>\n",
       "      <td>2016-01-01</td>\n",
       "    </tr>\n",
       "    <tr>\n",
       "      <th>...</th>\n",
       "      <td>...</td>\n",
       "      <td>...</td>\n",
       "      <td>...</td>\n",
       "      <td>...</td>\n",
       "      <td>...</td>\n",
       "    </tr>\n",
       "    <tr>\n",
       "      <th>76</th>\n",
       "      <td>1055</td>\n",
       "      <td>252550</td>\n",
       "      <td>1983-09-13</td>\n",
       "      <td>PATT</td>\n",
       "      <td>2016-01-01</td>\n",
       "    </tr>\n",
       "    <tr>\n",
       "      <th>77</th>\n",
       "      <td>1056</td>\n",
       "      <td>252123</td>\n",
       "      <td>1979-07-31</td>\n",
       "      <td>PATT</td>\n",
       "      <td>2015-01-01</td>\n",
       "    </tr>\n",
       "    <tr>\n",
       "      <th>78</th>\n",
       "      <td>1057</td>\n",
       "      <td>212341</td>\n",
       "      <td>1966-02-26</td>\n",
       "      <td>PA</td>\n",
       "      <td>2015-04-01</td>\n",
       "    </tr>\n",
       "    <tr>\n",
       "      <th>79</th>\n",
       "      <td>1062</td>\n",
       "      <td>106482</td>\n",
       "      <td>1962-08-29</td>\n",
       "      <td>PO</td>\n",
       "      <td>2009-10-01</td>\n",
       "    </tr>\n",
       "    <tr>\n",
       "      <th>80</th>\n",
       "      <td>1063</td>\n",
       "      <td>103117</td>\n",
       "      <td>1967-08-31</td>\n",
       "      <td>PA</td>\n",
       "      <td>2013-08-01</td>\n",
       "    </tr>\n",
       "  </tbody>\n",
       "</table>\n",
       "<p>81 rows × 5 columns</p>\n",
       "</div>"
      ],
      "text/plain": [
       "      CF  sciper        DoB academic rank appointment\n",
       "0    301  190188 1985-06-21          PATT  2019-01-01\n",
       "1    304  283344 1963-06-29            PO  2017-07-01\n",
       "2    305  283343 1978-04-30            PO  2017-11-01\n",
       "3    307  292067 1984-08-28          PATT  2018-06-01\n",
       "4    315  189938 1975-02-26            PA  2016-01-01\n",
       "..   ...     ...        ...           ...         ...\n",
       "76  1055  252550 1983-09-13          PATT  2016-01-01\n",
       "77  1056  252123 1979-07-31          PATT  2015-01-01\n",
       "78  1057  212341 1966-02-26            PA  2015-04-01\n",
       "79  1062  106482 1962-08-29            PO  2009-10-01\n",
       "80  1063  103117 1967-08-31            PA  2013-08-01\n",
       "\n",
       "[81 rows x 5 columns]"
      ]
     },
     "execution_count": 18,
     "metadata": {},
     "output_type": "execute_result"
    }
   ],
   "source": [
    "df"
   ]
  },
  {
   "cell_type": "code",
   "execution_count": 19,
   "metadata": {},
   "outputs": [
    {
     "name": "stdout",
     "output_type": "stream",
     "text": [
      "<class 'pandas.core.frame.DataFrame'>\n",
      "Int64Index: 81 entries, 0 to 80\n",
      "Data columns (total 5 columns):\n",
      "CF               81 non-null object\n",
      "sciper           81 non-null object\n",
      "DoB              81 non-null datetime64[ns]\n",
      "academic rank    81 non-null object\n",
      "appointment      81 non-null datetime64[ns]\n",
      "dtypes: datetime64[ns](2), object(3)\n",
      "memory usage: 3.8+ KB\n"
     ]
    }
   ],
   "source": [
    "df.info()"
   ]
  },
  {
   "cell_type": "code",
   "execution_count": null,
   "metadata": {},
   "outputs": [],
   "source": []
  }
 ],
 "metadata": {
  "kernelspec": {
   "display_name": "Python 3",
   "language": "python",
   "name": "python3"
  },
  "language_info": {
   "codemirror_mode": {
    "name": "ipython",
    "version": 3
   },
   "file_extension": ".py",
   "mimetype": "text/x-python",
   "name": "python",
   "nbconvert_exporter": "python",
   "pygments_lexer": "ipython3",
   "version": "3.7.4"
  }
 },
 "nbformat": 4,
 "nbformat_minor": 4
}
